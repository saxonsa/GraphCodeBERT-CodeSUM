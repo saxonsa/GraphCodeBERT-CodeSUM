{
 "cells": [
  {
   "cell_type": "code",
   "execution_count": 1,
   "metadata": {},
   "outputs": [],
   "source": [
    "import pandas as pd\n",
    "import matplotlib.pyplot as plt"
   ]
  },
  {
   "cell_type": "code",
   "execution_count": null,
   "metadata": {},
   "outputs": [],
   "source": [
    "pip install pandas"
   ]
  },
  {
   "cell_type": "code",
   "execution_count": null,
   "metadata": {},
   "outputs": [],
   "source": [
    "pip install matplotlib"
   ]
  },
  {
   "cell_type": "code",
   "execution_count": 7,
   "metadata": {},
   "outputs": [],
   "source": [
    "data = pd.read_csv('java/loss_bleu.csv')\n",
    "\n",
    "# Extract the columns\n",
    "x = data.iloc[:, 0]\n",
    "y1 = data.iloc[:, 1]\n",
    "y2 = data.iloc[:, 2]\n",
    "\n",
    "# Create the first figure and axes\n",
    "fig1, ax1 = plt.subplots(figsize=(8, 4))\n",
    "\n",
    "# Plot the first line chart\n",
    "ax1.plot(x, y1)\n",
    "ax1.set_xlabel('epochs')\n",
    "ax1.set_ylabel('Loss')\n",
    "ax1.set_title('Loss trend')\n",
    "\n",
    "# Save the first plot to a PDF file\n",
    "fig1.savefig(\"loss_trend.pdf\", format='pdf')\n",
    "\n",
    "# Close the first plot to release memory\n",
    "plt.close(fig1)\n",
    "\n",
    "# Create the second figure and axes\n",
    "fig2, ax2 = plt.subplots(figsize=(8, 4))\n",
    "\n",
    "# Plot the second line chart\n",
    "ax2.plot(x, y2)\n",
    "ax2.set_xlabel('epochs')\n",
    "ax2.set_ylabel('Smooth BLEU-4')\n",
    "ax2.set_title('Smooth BLEU-4 trend')\n",
    "\n",
    "# Save the second plot to a PDF file\n",
    "fig2.savefig(\"smooth_bleu4_trend.pdf\", format='pdf')\n",
    "\n",
    "# Close the second plot to release memory\n",
    "plt.close(fig2)\n"
   ]
  }
 ],
 "metadata": {
  "kernelspec": {
   "display_name": "Python 3 (ipykernel)",
   "language": "python",
   "name": "python3"
  },
  "language_info": {
   "codemirror_mode": {
    "name": "ipython",
    "version": 3
   },
   "file_extension": ".py",
   "mimetype": "text/x-python",
   "name": "python",
   "nbconvert_exporter": "python",
   "pygments_lexer": "ipython3",
   "version": "3.8.16"
  }
 },
 "nbformat": 4,
 "nbformat_minor": 4
}
